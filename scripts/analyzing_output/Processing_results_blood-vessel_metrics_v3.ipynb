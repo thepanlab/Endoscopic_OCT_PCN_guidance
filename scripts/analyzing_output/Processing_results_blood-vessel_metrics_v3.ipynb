{
 "cells": [
  {
   "cell_type": "markdown",
   "metadata": {},
   "source": [
    "This jupyter notebook.\n",
    "For the CV, it uses `summary.json` files to retrieve the IoU metrics.\n",
    "For the test, it calculates from the predicted image and label.\n",
    "\n",
    "Note:\n",
    "From [`common_question`](https://github.com/MIC-DKFZ/nnUNet/blob/nnunetv1/documentation/common_questions.md#what-postprocessing-is-selected) in the library. `postprocessing.json` have:\n",
    "\n",
    "```json\n",
    "    \"for_which_classes\": [],\n",
    "```\n",
    "\n",
    "Therefore, no postprocessing was applied. That is `validation_raw` and `validation_raw_postprocessed` show the same images"
   ]
  },
  {
   "cell_type": "code",
   "execution_count": 1,
   "metadata": {},
   "outputs": [],
   "source": [
    "import os\n",
    "import numpy as np\n",
    "from nibabel.testing import data_path\n",
    "import glob\n",
    "import nibabel as nib\n",
    "from PIL import Image\n",
    "import matplotlib.pyplot as plt\n",
    "import re\n",
    "import cv2\n",
    "from sklearn.metrics import jaccard_score\n",
    "import pandas as pd\n",
    "from tqdm import tqdm"
   ]
  },
  {
   "cell_type": "markdown",
   "metadata": {},
   "source": [
    "# Analyzing single result"
   ]
  },
  {
   "cell_type": "markdown",
   "metadata": {},
   "source": [
    "`validation_raw/summary.json` contains the metrics for each image"
   ]
  },
  {
   "cell_type": "code",
   "execution_count": 2,
   "metadata": {},
   "outputs": [],
   "source": [
    "# Import the module\n",
    "import json\n",
    "\n",
    "# String with JSON format\n",
    "# JSON file\n",
    "f = open (\"/home/pcallec/nnUNet_blood-vessel/results/nnUNet_trained_models/nnUNet/2d/Task500_BloodVessel/\" \n",
    "          + \"nnUNetTrainerV2__nnUNetPlansv2.1/fold_0/validation_raw/summary.json\", \"r\")\n",
    "\n",
    "# Convert JSON string to dictionary\n",
    "data_dict = json.load(f)"
   ]
  },
  {
   "cell_type": "markdown",
   "metadata": {},
   "source": [
    "# Mean all folds\n",
    "Extracting Jaccard/IoU (Intersection over Union) metric"
   ]
  },
  {
   "cell_type": "code",
   "execution_count": 3,
   "metadata": {},
   "outputs": [],
   "source": [
    "# Import the module\n",
    "import json\n",
    "import pandas as pd\n",
    "# String with JSON format\n",
    "# JSON file\n",
    "\n",
    "l_columns = [\"IoU class 0\", \"IoU class 1\"]\n",
    "pd_mean = pd.DataFrame(columns = l_columns)\n",
    "\n",
    "for i in range(5):\n",
    "    f = open (\"/home/pcallec/nnUNet_blood-vessel/results/nnUNet_trained_models/nnUNet/2d/Task500_BloodVessel/\"\n",
    "              +f\"nnUNetTrainerV2__nnUNetPlansv2.1/fold_{i}/validation_raw/summary.json\", \"r\")\n",
    "\n",
    "    # Convert JSON string to dictionary\n",
    "    data_dict = json.load(f)\n",
    "    \n",
    "    jaccard_0 = data_dict[\"results\"][\"mean\"][\"0\"][\"Jaccard\"]\n",
    "    jaccard_1 = data_dict[\"results\"][\"mean\"][\"1\"][\"Jaccard\"]\n",
    "    \n",
    "    pd_mean.loc[i] = [jaccard_0, jaccard_1]"
   ]
  },
  {
   "cell_type": "code",
   "execution_count": 4,
   "metadata": {},
   "outputs": [],
   "source": [
    "pd_mean.to_csv(\"../../results/processed_results/iou_mean.csv\")"
   ]
  },
  {
   "cell_type": "markdown",
   "metadata": {},
   "source": [
    "# Individual values"
   ]
  },
  {
   "cell_type": "code",
   "execution_count": 5,
   "metadata": {},
   "outputs": [],
   "source": [
    "# Import the module\n",
    "import json\n",
    "import pandas as pd\n",
    "# String with JSON format\n",
    "# JSON file\n",
    "\n",
    "l_columns = [\"fold\",\"index\",\"IoU class 0\", \"IoU class 1\"]\n",
    "df_all = pd.DataFrame(columns = l_columns)\n",
    "\n",
    "for i in range(5):\n",
    "    f = open (\"/home/pcallec/nnUNet_blood-vessel/results/nnUNet_trained_models/nnUNet/2d/Task500_BloodVessel/\"\n",
    "              +f\"nnUNetTrainerV2__nnUNetPlansv2.1/fold_{i}/validation_raw/summary.json\", \"r\")\n",
    "\n",
    "    # Convert JSON string to dictionary\n",
    "    data_dict = json.load(f)\n",
    "#     print(f\"fold = {i}\", len(data_dict[\"results\"][\"all\"]))\n",
    "    for element in data_dict[\"results\"][\"all\"]:\n",
    "        fold = i\n",
    "#         print(element[\"test\"])\n",
    "        index = int(os.path.basename(element[\"test\"])[:4])\n",
    "        jaccard_0 = element[\"0\"][\"Jaccard\"]\n",
    "        jaccard_1 = element[\"1\"][\"Jaccard\"]\n",
    "        data_temp = {\"fold\": [fold],\n",
    "                     \"index\": [index],\n",
    "                     \"IoU class 0\": [jaccard_0],\n",
    "                     \"IoU class 1\": [jaccard_1]}\n",
    "        df_temp = pd.DataFrame(data_temp)\n",
    "#         print(f\"fold {i} index {index}\")\n",
    "        df_all = pd.concat([df_all, df_temp], ignore_index = True)"
   ]
  },
  {
   "cell_type": "code",
   "execution_count": 6,
   "metadata": {},
   "outputs": [],
   "source": [
    "df_all.to_csv(\"../../results/processed_results/iou_all.csv\")"
   ]
  },
  {
   "cell_type": "code",
   "execution_count": 7,
   "metadata": {},
   "outputs": [
    {
     "data": {
      "text/html": [
       "<div>\n",
       "<style scoped>\n",
       "    .dataframe tbody tr th:only-of-type {\n",
       "        vertical-align: middle;\n",
       "    }\n",
       "\n",
       "    .dataframe tbody tr th {\n",
       "        vertical-align: top;\n",
       "    }\n",
       "\n",
       "    .dataframe thead th {\n",
       "        text-align: right;\n",
       "    }\n",
       "</style>\n",
       "<table border=\"1\" class=\"dataframe\">\n",
       "  <thead>\n",
       "    <tr style=\"text-align: right;\">\n",
       "      <th></th>\n",
       "      <th>fold</th>\n",
       "      <th>index</th>\n",
       "      <th>IoU class 0</th>\n",
       "      <th>IoU class 1</th>\n",
       "    </tr>\n",
       "  </thead>\n",
       "  <tbody>\n",
       "    <tr>\n",
       "      <th>0</th>\n",
       "      <td>0</td>\n",
       "      <td>2</td>\n",
       "      <td>0.993154</td>\n",
       "      <td>0.913077</td>\n",
       "    </tr>\n",
       "    <tr>\n",
       "      <th>1</th>\n",
       "      <td>0</td>\n",
       "      <td>3</td>\n",
       "      <td>0.989452</td>\n",
       "      <td>0.883567</td>\n",
       "    </tr>\n",
       "    <tr>\n",
       "      <th>2</th>\n",
       "      <td>0</td>\n",
       "      <td>9</td>\n",
       "      <td>0.994686</td>\n",
       "      <td>0.934374</td>\n",
       "    </tr>\n",
       "    <tr>\n",
       "      <th>3</th>\n",
       "      <td>0</td>\n",
       "      <td>18</td>\n",
       "      <td>0.995009</td>\n",
       "      <td>0.857699</td>\n",
       "    </tr>\n",
       "    <tr>\n",
       "      <th>4</th>\n",
       "      <td>0</td>\n",
       "      <td>19</td>\n",
       "      <td>0.993333</td>\n",
       "      <td>0.880295</td>\n",
       "    </tr>\n",
       "  </tbody>\n",
       "</table>\n",
       "</div>"
      ],
      "text/plain": [
       "  fold index  IoU class 0  IoU class 1\n",
       "0    0     2     0.993154     0.913077\n",
       "1    0     3     0.989452     0.883567\n",
       "2    0     9     0.994686     0.934374\n",
       "3    0    18     0.995009     0.857699\n",
       "4    0    19     0.993333     0.880295"
      ]
     },
     "execution_count": 7,
     "metadata": {},
     "output_type": "execute_result"
    }
   ],
   "source": [
    "df_all.head()"
   ]
  },
  {
   "cell_type": "code",
   "execution_count": 8,
   "metadata": {},
   "outputs": [
    {
     "data": {
      "image/png": "[encoded data removed]",
      "text/plain": [
       "<Figure size 1500x2000 with 6 Axes>"
      ]
     },
     "metadata": {},
     "output_type": "display_data"
    }
   ],
   "source": [
    "a_ax = df_all.hist(column=\"IoU class 1\", by = \"fold\", figsize = (15,20))\n",
    "fig = a_ax[0,0].get_figure()\n",
    "\n",
    "for i, ax in enumerate(a_ax.ravel()):\n",
    "    ax.spines['top'].set_visible(False)\n",
    "    ax.spines['right'].set_visible(False)\n",
    "    ax.set_xlabel(\"IoU blood vessel\", fontsize = 14)\n",
    "    ax.xaxis.set_tick_params(labelsize=14, rotation=0)\n",
    "    ax.yaxis.set_tick_params(labelsize=14)\n",
    "    ax.set_title(f\"Fold {i}\", fontsize = 16)\n",
    "    ax.grid(which = \"major\", axis = \"y\")\n",
    "\n",
    "path_directory = \"../../results/processed_results/histogram\"\n",
    "    \n",
    "filename = \"histogram_IoU.png\"\n",
    "file_path = os.path.join(path_directory, filename)\n",
    "        \n",
    "fig.savefig(file_path, dpi=350)"
   ]
  },
  {
   "cell_type": "code",
   "execution_count": 9,
   "metadata": {},
   "outputs": [
    {
     "data": {
      "text/plain": [
       "dtype('float64')"
      ]
     },
     "execution_count": 9,
     "metadata": {},
     "output_type": "execute_result"
    }
   ],
   "source": [
    "df_all[\"IoU class 1\"].dtypes"
   ]
  },
  {
   "cell_type": "code",
   "execution_count": 10,
   "metadata": {},
   "outputs": [
    {
     "data": {
      "text/plain": [
       "fold            object\n",
       "index           object\n",
       "IoU class 0    float64\n",
       "IoU class 1    float64\n",
       "dtype: object"
      ]
     },
     "execution_count": 10,
     "metadata": {},
     "output_type": "execute_result"
    }
   ],
   "source": [
    "df_all.dtypes"
   ]
  },
  {
   "cell_type": "code",
   "execution_count": 11,
   "metadata": {},
   "outputs": [
    {
     "data": {
      "image/png": "[encoded data removed]",
      "text/plain": [
       "<Figure size 1000x500 with 1 Axes>"
      ]
     },
     "metadata": {},
     "output_type": "display_data"
    }
   ],
   "source": [
    "df_all = df_all.astype({\"IoU class 1\": float})\n",
    "\n",
    "a_ax = df_all.hist(column=\"IoU class 1\", figsize = (10,5))\n",
    "\n",
    "ax = a_ax[0,0]\n",
    "fig = ax.get_figure()\n",
    "\n",
    "ax.spines['top'].set_visible(False)\n",
    "ax.spines['right'].set_visible(False)\n",
    "ax.set_xlabel(\"IoU blood vessel\", fontsize = 14)\n",
    "ax.xaxis.set_tick_params(labelsize=14, rotation=0)\n",
    "ax.yaxis.set_tick_params(labelsize=14)\n",
    "ax.set_title(f\"Histogram all folds\", fontsize = 16)\n",
    "ax.grid(which = \"major\", axis = \"x\")\n",
    "\n",
    "path_directory = \"../../results/processed_results/histogram\"\n",
    "    \n",
    "filename = \"histogram_IoU_all.png\"\n",
    "file_path = os.path.join(path_directory, filename)\n",
    "        \n",
    "fig.savefig(file_path, dpi=350)"
   ]
  },
  {
   "cell_type": "code",
   "execution_count": 12,
   "metadata": {},
   "outputs": [
    {
     "data": {
      "text/plain": [
       "<AxesSubplot: title={'center': 'Histogram all folds'}, xlabel='IoU blood vessel'>"
      ]
     },
     "execution_count": 12,
     "metadata": {},
     "output_type": "execute_result"
    }
   ],
   "source": [
    "a_ax[0][0]"
   ]
  },
  {
   "cell_type": "code",
   "execution_count": 13,
   "metadata": {},
   "outputs": [
    {
     "data": {
      "text/plain": [
       "array([[<AxesSubplot: title={'center': 'Histogram all folds'}, xlabel='IoU blood vessel'>]],\n",
       "      dtype=object)"
      ]
     },
     "execution_count": 13,
     "metadata": {},
     "output_type": "execute_result"
    }
   ],
   "source": [
    "a_ax"
   ]
  },
  {
   "cell_type": "code",
   "execution_count": 14,
   "metadata": {},
   "outputs": [
    {
     "data": {
      "text/html": [
       "<div>\n",
       "<style scoped>\n",
       "    .dataframe tbody tr th:only-of-type {\n",
       "        vertical-align: middle;\n",
       "    }\n",
       "\n",
       "    .dataframe tbody tr th {\n",
       "        vertical-align: top;\n",
       "    }\n",
       "\n",
       "    .dataframe thead th {\n",
       "        text-align: right;\n",
       "    }\n",
       "</style>\n",
       "<table border=\"1\" class=\"dataframe\">\n",
       "  <thead>\n",
       "    <tr style=\"text-align: right;\">\n",
       "      <th></th>\n",
       "      <th>fold</th>\n",
       "      <th>index</th>\n",
       "      <th>IoU class 0</th>\n",
       "      <th>IoU class 1</th>\n",
       "    </tr>\n",
       "  </thead>\n",
       "  <tbody>\n",
       "    <tr>\n",
       "      <th>0</th>\n",
       "      <td>0</td>\n",
       "      <td>2</td>\n",
       "      <td>0.993154</td>\n",
       "      <td>0.913077</td>\n",
       "    </tr>\n",
       "    <tr>\n",
       "      <th>1</th>\n",
       "      <td>0</td>\n",
       "      <td>3</td>\n",
       "      <td>0.989452</td>\n",
       "      <td>0.883567</td>\n",
       "    </tr>\n",
       "    <tr>\n",
       "      <th>2</th>\n",
       "      <td>0</td>\n",
       "      <td>9</td>\n",
       "      <td>0.994686</td>\n",
       "      <td>0.934374</td>\n",
       "    </tr>\n",
       "    <tr>\n",
       "      <th>3</th>\n",
       "      <td>0</td>\n",
       "      <td>18</td>\n",
       "      <td>0.995009</td>\n",
       "      <td>0.857699</td>\n",
       "    </tr>\n",
       "    <tr>\n",
       "      <th>4</th>\n",
       "      <td>0</td>\n",
       "      <td>19</td>\n",
       "      <td>0.993333</td>\n",
       "      <td>0.880295</td>\n",
       "    </tr>\n",
       "  </tbody>\n",
       "</table>\n",
       "</div>"
      ],
      "text/plain": [
       "  fold index  IoU class 0  IoU class 1\n",
       "0    0     2     0.993154     0.913077\n",
       "1    0     3     0.989452     0.883567\n",
       "2    0     9     0.994686     0.934374\n",
       "3    0    18     0.995009     0.857699\n",
       "4    0    19     0.993333     0.880295"
      ]
     },
     "execution_count": 14,
     "metadata": {},
     "output_type": "execute_result"
    }
   ],
   "source": [
    "df_all.head()"
   ]
  },
  {
   "cell_type": "code",
   "execution_count": 15,
   "metadata": {},
   "outputs": [
    {
     "data": {
      "text/plain": [
       "Index(['fold', 'index', 'IoU class 0', 'IoU class 1'], dtype='object')"
      ]
     },
     "execution_count": 15,
     "metadata": {},
     "output_type": "execute_result"
    }
   ],
   "source": [
    "df_all.columns"
   ]
  },
  {
   "cell_type": "code",
   "execution_count": 16,
   "metadata": {},
   "outputs": [
    {
     "name": "stderr",
     "output_type": "stream",
     "text": [
      "/tmp/ipykernel_66910/2682154546.py:1: FutureWarning: The default value of numeric_only in DataFrameGroupBy.mean is deprecated. In a future version, numeric_only will default to False. Either specify numeric_only or select only columns which should be valid for the function.\n",
      "  df_all.groupby(by=\"fold\").mean()\n"
     ]
    },
    {
     "data": {
      "text/html": [
       "<div>\n",
       "<style scoped>\n",
       "    .dataframe tbody tr th:only-of-type {\n",
       "        vertical-align: middle;\n",
       "    }\n",
       "\n",
       "    .dataframe tbody tr th {\n",
       "        vertical-align: top;\n",
       "    }\n",
       "\n",
       "    .dataframe thead th {\n",
       "        text-align: right;\n",
       "    }\n",
       "</style>\n",
       "<table border=\"1\" class=\"dataframe\">\n",
       "  <thead>\n",
       "    <tr style=\"text-align: right;\">\n",
       "      <th></th>\n",
       "      <th>IoU class 0</th>\n",
       "      <th>IoU class 1</th>\n",
       "    </tr>\n",
       "    <tr>\n",
       "      <th>fold</th>\n",
       "      <th></th>\n",
       "      <th></th>\n",
       "    </tr>\n",
       "  </thead>\n",
       "  <tbody>\n",
       "    <tr>\n",
       "      <th>0</th>\n",
       "      <td>0.991388</td>\n",
       "      <td>0.892554</td>\n",
       "    </tr>\n",
       "    <tr>\n",
       "      <th>1</th>\n",
       "      <td>0.992069</td>\n",
       "      <td>0.891172</td>\n",
       "    </tr>\n",
       "    <tr>\n",
       "      <th>2</th>\n",
       "      <td>0.991425</td>\n",
       "      <td>0.891180</td>\n",
       "    </tr>\n",
       "    <tr>\n",
       "      <th>3</th>\n",
       "      <td>0.991751</td>\n",
       "      <td>0.888162</td>\n",
       "    </tr>\n",
       "    <tr>\n",
       "      <th>4</th>\n",
       "      <td>0.991676</td>\n",
       "      <td>0.888416</td>\n",
       "    </tr>\n",
       "  </tbody>\n",
       "</table>\n",
       "</div>"
      ],
      "text/plain": [
       "      IoU class 0  IoU class 1\n",
       "fold                          \n",
       "0        0.991388     0.892554\n",
       "1        0.992069     0.891172\n",
       "2        0.991425     0.891180\n",
       "3        0.991751     0.888162\n",
       "4        0.991676     0.888416"
      ]
     },
     "execution_count": 16,
     "metadata": {},
     "output_type": "execute_result"
    }
   ],
   "source": [
    "df_all.groupby(by=\"fold\").mean()"
   ]
  },
  {
   "cell_type": "code",
   "execution_count": 17,
   "metadata": {},
   "outputs": [
    {
     "name": "stderr",
     "output_type": "stream",
     "text": [
      "/tmp/ipykernel_66910/336028902.py:1: FutureWarning: The default value of numeric_only in DataFrameGroupBy.mean is deprecated. In a future version, numeric_only will default to False. Either specify numeric_only or select only columns which should be valid for the function.\n",
      "  df_all_mean = df_all.groupby(by=\"fold\").mean()\n"
     ]
    }
   ],
   "source": [
    "df_all_mean = df_all.groupby(by=\"fold\").mean()\n",
    "df_all_mean.to_csv(\"../../results/processed_results/iou_all_mean.csv\")"
   ]
  },
  {
   "cell_type": "markdown",
   "metadata": {},
   "source": [
    "# Test: Manual calculation"
   ]
  },
  {
   "cell_type": "markdown",
   "metadata": {},
   "source": [
    "Prediction results do not provide the metrics, therefore they need to be calculated manually from the predicted image and the label"
   ]
  },
  {
   "cell_type": "code",
   "execution_count": 19,
   "metadata": {},
   "outputs": [
    {
     "name": "stderr",
     "output_type": "stream",
     "text": [
      "100%|██████████| 1000/1000 [00:27<00:00, 35.82it/s]\n"
     ]
    }
   ],
   "source": [
    "l_truth = []\n",
    "l_predicted = []\n",
    "\n",
    "path_dataset = \"/home/pcallec/nnUNet_blood-vessel/data/5000_All-Doppler-Labeled_Results_v3\"\n",
    "path_output = \"/home/pcallec/nnUNet_blood-vessel/results/processed_results/\"\n",
    "predicted_dir = \"/home/pcallec/nnUNet_blood-vessel/results/test_pred/v3\"\n",
    "\n",
    "test_predicted_img_paths = glob.glob(predicted_dir + \"/*.nii.gz\")\n",
    "test_predicted_img_paths.sort()\n",
    "\n",
    "l_columns = [\"image_index\",\"iou_background\", \"iou_bloodvessel\"]\n",
    "df_all = pd.DataFrame(columns=l_columns)\n",
    "\n",
    "for test_predicted_path in tqdm(test_predicted_img_paths):\n",
    "    # TODO\n",
    "    # Extract number from name to put in name for superimposed image\n",
    "\n",
    "    re_number = re.compile(r'(?<=/)[0-9]{4}')\n",
    "    img_number = re_number.search(test_predicted_path).group(0)\n",
    "    path_label_truth = os.path.join(path_dataset, f\"{img_number}_labeled_1ch.png\")\n",
    "    path_image = os.path.join(path_dataset, f\"{img_number}.png\")\n",
    "\n",
    "    # print(\"img_number = \", img_number)\n",
    "    # print(path_image)\n",
    "    # print(path_label_truth)\n",
    "\n",
    "    # Read image\n",
    "    img_input_pillow = Image.open(path_image)\n",
    "    a_img_input_pillow = np.array(img_input_pillow)\n",
    "    # print(\"a_img_input_pillow.shape = \", a_img_input_pillow.shape)\n",
    "\n",
    "    # Read label\n",
    "    img_label_pillow = Image.open(path_label_truth)\n",
    "    a_img_label_pillow = np.array(img_label_pillow)\n",
    "    # print(\"a_img_label_pillow.shape = \", a_img_label_pillow.shape)\n",
    "\n",
    "    # Changing values of label to 0 and 1\n",
    "    np.place(a_img_label_pillow, a_img_label_pillow == 53, 0)\n",
    "    np.place(a_img_label_pillow, a_img_label_pillow == 91, 1)\n",
    "\n",
    "    # Read prediction\n",
    "#     a_img_pillow = np.where(a_img_pillow ==255, 1, a_img_pillow)\n",
    "    img = nib.load(test_predicted_path)\n",
    "    epi_img_data = img.get_fdata()\n",
    "    mask_cv2 = np.uint8(epi_img_data[:,:,0].T)\n",
    "#     plt.imshow(mask_cv2_color, interpolation='nearest')\n",
    "\n",
    "\n",
    "    iou_background_temp, iou_bloodvessel_temp = jaccard_score(mask_cv2.ravel(), a_img_label_pillow.ravel(), average=None)\n",
    "    data = [{\"image_index\": img_number, \n",
    "            \"iou_background\": iou_background_temp,\n",
    "            \"iou_bloodvessel\": iou_bloodvessel_temp}]\n",
    "    df_temp = pd.DataFrame(data)\n",
    "    \n",
    "    df_all = pd.concat([df_all, df_temp], ignore_index=True)\n",
    "#     break"
   ]
  },
  {
   "cell_type": "code",
   "execution_count": 21,
   "metadata": {},
   "outputs": [
    {
     "data": {
      "text/html": [
       "<div>\n",
       "<style scoped>\n",
       "    .dataframe tbody tr th:only-of-type {\n",
       "        vertical-align: middle;\n",
       "    }\n",
       "\n",
       "    .dataframe tbody tr th {\n",
       "        vertical-align: top;\n",
       "    }\n",
       "\n",
       "    .dataframe thead th {\n",
       "        text-align: right;\n",
       "    }\n",
       "</style>\n",
       "<table border=\"1\" class=\"dataframe\">\n",
       "  <thead>\n",
       "    <tr style=\"text-align: right;\">\n",
       "      <th></th>\n",
       "      <th>image_index</th>\n",
       "      <th>iou_background</th>\n",
       "      <th>iou_bloodvessel</th>\n",
       "    </tr>\n",
       "  </thead>\n",
       "  <tbody>\n",
       "    <tr>\n",
       "      <th>0</th>\n",
       "      <td>0013</td>\n",
       "      <td>0.988872</td>\n",
       "      <td>0.886246</td>\n",
       "    </tr>\n",
       "    <tr>\n",
       "      <th>1</th>\n",
       "      <td>0021</td>\n",
       "      <td>0.995930</td>\n",
       "      <td>0.932365</td>\n",
       "    </tr>\n",
       "    <tr>\n",
       "      <th>2</th>\n",
       "      <td>0026</td>\n",
       "      <td>0.992013</td>\n",
       "      <td>0.913521</td>\n",
       "    </tr>\n",
       "    <tr>\n",
       "      <th>3</th>\n",
       "      <td>0028</td>\n",
       "      <td>0.994334</td>\n",
       "      <td>0.929027</td>\n",
       "    </tr>\n",
       "    <tr>\n",
       "      <th>4</th>\n",
       "      <td>0029</td>\n",
       "      <td>0.991983</td>\n",
       "      <td>0.910866</td>\n",
       "    </tr>\n",
       "  </tbody>\n",
       "</table>\n",
       "</div>"
      ],
      "text/plain": [
       "  image_index  iou_background  iou_bloodvessel\n",
       "0        0013        0.988872         0.886246\n",
       "1        0021        0.995930         0.932365\n",
       "2        0026        0.992013         0.913521\n",
       "3        0028        0.994334         0.929027\n",
       "4        0029        0.991983         0.910866"
      ]
     },
     "execution_count": 21,
     "metadata": {},
     "output_type": "execute_result"
    }
   ],
   "source": [
    "df_all.head()"
   ]
  },
  {
   "cell_type": "code",
   "execution_count": 51,
   "metadata": {},
   "outputs": [
    {
     "data": {
      "text/plain": [
       "image_index             inf\n",
       "iou_background     0.991627\n",
       "iou_bloodvessel    0.891726\n",
       "dtype: float64"
      ]
     },
     "execution_count": 51,
     "metadata": {},
     "output_type": "execute_result"
    }
   ],
   "source": [
    "df_all.mean()"
   ]
  },
  {
   "cell_type": "code",
   "execution_count": 22,
   "metadata": {},
   "outputs": [],
   "source": [
    "df_all.to_csv(\"../../results/processed_results/iou_all_test.csv\")"
   ]
  },
  {
   "cell_type": "code",
   "execution_count": 23,
   "metadata": {},
   "outputs": [
    {
     "data": {
      "image/png": "[encoded data removed]",
      "text/plain": [
       "<Figure size 1000x500 with 1 Axes>"
      ]
     },
     "metadata": {},
     "output_type": "display_data"
    }
   ],
   "source": [
    "a_ax = df_all.hist(column=\"iou_bloodvessel\", figsize = (10,5))\n",
    "\n",
    "ax = a_ax[0,0]\n",
    "fig = ax.get_figure()\n",
    "\n",
    "ax.spines['top'].set_visible(False)\n",
    "ax.spines['right'].set_visible(False)\n",
    "ax.set_xlabel(\"IoU blood vessel\", fontsize = 14)\n",
    "ax.xaxis.set_tick_params(labelsize=14, rotation=0)\n",
    "ax.yaxis.set_tick_params(labelsize=14)\n",
    "ax.set_title(f\"Histogram Test\", fontsize = 16)\n",
    "ax.grid(which = \"major\", axis = \"x\")\n",
    "\n",
    "path_directory = \"../../results/processed_results/histogram\"\n",
    "    \n",
    "filename = \"histogram_IoU_all_test.png\"\n",
    "file_path = os.path.join(path_directory, filename)\n",
    "        \n",
    "fig.savefig(file_path, dpi=350)"
   ]
  }
 ],
 "metadata": {
  "kernelspec": {
   "display_name": "tf-gpu2.6.2",
   "language": "python",
   "name": "python3"
  },
  "language_info": {
   "codemirror_mode": {
    "name": "ipython",
    "version": 3
   },
   "file_extension": ".py",
   "mimetype": "text/x-python",
   "name": "python",
   "nbconvert_exporter": "python",
   "pygments_lexer": "ipython3",
   "version": "3.8.13"
  },
  "toc": {
   "base_numbering": 1,
   "nav_menu": {},
   "number_sections": true,
   "sideBar": true,
   "skip_h1_title": false,
   "title_cell": "Table of Contents",
   "title_sidebar": "Contents",
   "toc_cell": false,
   "toc_position": {
    "height": "calc(100% - 180px)",
    "left": "10px",
    "top": "150px",
    "width": "215.2px"
   },
   "toc_section_display": true,
   "toc_window_display": true
  }
 },
 "nbformat": 4,
 "nbformat_minor": 4
}
